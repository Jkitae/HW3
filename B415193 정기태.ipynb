{
  "nbformat": 4,
  "nbformat_minor": 0,
  "metadata": {
    "colab": {
      "name": "Untitled1.ipynb",
      "provenance": [],
      "authorship_tag": "ABX9TyOk7U02WgPhDlwGIzxkKDQ/",
      "include_colab_link": true
    },
    "kernelspec": {
      "name": "python3",
      "display_name": "Python 3"
    }
  },
  "cells": [
    {
      "cell_type": "markdown",
      "metadata": {
        "id": "view-in-github",
        "colab_type": "text"
      },
      "source": [
        "<a href=\"https://colab.research.google.com/github/Jkitae/HW3/blob/master/B415193%20%EC%A0%95%EA%B8%B0%ED%83%9C.ipynb\" target=\"_parent\"><img src=\"https://colab.research.google.com/assets/colab-badge.svg\" alt=\"Open In Colab\"/></a>"
      ]
    },
    {
      "cell_type": "code",
      "metadata": {
        "id": "pp9_lJ8pPH-E",
        "colab_type": "code",
        "colab": {
          "base_uri": "https://localhost:8080/",
          "height": 539
        },
        "outputId": "9baf4d62-675f-47d7-96b8-861d7ffee8f7"
      },
      "source": [
        "mode = 'scale'\n",
        "\n",
        "if (mode == 'scale'):\n",
        "\n",
        "    # 라이브러리 추출\n",
        "\n",
        "    from tensorflow import keras\n",
        "    from keras.datasets import mnist\n",
        "    from keras.models import Sequential\n",
        "    from keras.layers import Input, Dense, Activation\n",
        "    from keras.optimizers import Adam, SGD\n",
        "    from keras.utils import to_categorical\n",
        "\n",
        "    # MNIST data 불러오기\n",
        "\n",
        "    (train_images, train_labels),(test_images, test_labels) = mnist.load_data(path = \"mnist.npz\")\n",
        "    train_images = train_images.reshape((train_images.shape[0],-1))\n",
        "    test_images = test_images.reshape((test_images.shape[0],-1))\n",
        "    train_labels = to_categorical(train_labels)\n",
        "    test_labels = to_categorical(test_labels)\n",
        "\n",
        "    # Scaling\n",
        "\n",
        "    X1 = train_images * 0.988\n",
        "    X2 = test_images * 0.988\n",
        "    Y1 = train_labels * 0.988\n",
        "    Y2 = test_labels * 0.988\n",
        "\n",
        "    # Sequential model for dual layer perceptron\n",
        "\n",
        "    model = Sequential([Dense(392, input_shape = (784,), activation = 'relu'), Dense(10,activation = 'softmax')])\n",
        "    model.summary()\n",
        "\n",
        "    # Graph generation\n",
        "\n",
        "    model.compile(optimizer = 'adam', loss = 'categorical_crossentropy', metrics = ['accuracy'])\n",
        "\n",
        "    # Training\n",
        "\n",
        "    model.fit(X1, Y1, epochs = 5, batch_size = 200)\n",
        "\n",
        "    # Evaluate\n",
        "\n",
        "    rslt = model.evaluate(X1, Y1, batch_size = 200)\n",
        "    print(\"train, loss and accuracy {}\".format(rslt))\n",
        "    rslt = model.evaluate(X2, Y2, batch_size = 200)\n",
        "    print(\"train, loss and accuracy {}\".format(rslt))"
      ],
      "execution_count": 1,
      "outputs": [
        {
          "output_type": "stream",
          "text": [
            "Using TensorFlow backend.\n"
          ],
          "name": "stderr"
        },
        {
          "output_type": "stream",
          "text": [
            "Downloading data from https://s3.amazonaws.com/img-datasets/mnist.npz\n",
            "11493376/11490434 [==============================] - 2s 0us/step\n",
            "Model: \"sequential_1\"\n",
            "_________________________________________________________________\n",
            "Layer (type)                 Output Shape              Param #   \n",
            "=================================================================\n",
            "dense_1 (Dense)              (None, 392)               307720    \n",
            "_________________________________________________________________\n",
            "dense_2 (Dense)              (None, 10)                3930      \n",
            "=================================================================\n",
            "Total params: 311,650\n",
            "Trainable params: 311,650\n",
            "Non-trainable params: 0\n",
            "_________________________________________________________________\n",
            "Epoch 1/5\n",
            "60000/60000 [==============================] - 3s 54us/step - loss: 5.9530 - accuracy: 0.8769\n",
            "Epoch 2/5\n",
            "60000/60000 [==============================] - 3s 51us/step - loss: 4.0210 - accuracy: 0.9057\n",
            "Epoch 3/5\n",
            "60000/60000 [==============================] - 3s 49us/step - loss: 10.0592 - accuracy: 0.9032\n",
            "Epoch 4/5\n",
            "60000/60000 [==============================] - 3s 50us/step - loss: 19.5147 - accuracy: 0.9009\n",
            "Epoch 5/5\n",
            "60000/60000 [==============================] - 3s 49us/step - loss: 29.6889 - accuracy: 0.9039\n",
            "60000/60000 [==============================] - 1s 19us/step\n",
            "train, loss and accuracy [41.31239722251892, 0.8802000284194946]\n",
            "10000/10000 [==============================] - 0s 20us/step\n",
            "train, loss and accuracy [43.63725229740143, 0.8799999952316284]\n"
          ],
          "name": "stdout"
        }
      ]
    }
  ]
}